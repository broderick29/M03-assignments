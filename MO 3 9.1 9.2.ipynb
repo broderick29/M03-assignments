{
 "cells": [
  {
   "cell_type": "code",
   "execution_count": 7,
   "id": "a9d7f44e-a9cf-46ef-baa4-6f3a730fd5a2",
   "metadata": {},
   "outputs": [
    {
     "name": "stdout",
     "output_type": "stream",
     "text": [
      "['Harry', 'Ron', 'Hermione']\n"
     ]
    }
   ],
   "source": [
    "def good():\n",
    "    return ['Harry' , 'Ron', 'Hermione']\n",
    "print(good())\n",
    "    \n"
   ]
  },
  {
   "cell_type": "code",
   "execution_count": 9,
   "id": "16f0c3ce-331a-4e5e-9804-d92050a77d3a",
   "metadata": {},
   "outputs": [],
   "source": [
    "def get_odds():\n",
    "    for number in range(10):\n",
    "        if number % 2 != 0:\n",
    "            yield number\n",
    "            "
   ]
  },
  {
   "cell_type": "code",
   "execution_count": null,
   "id": "f4a52873-8509-45bd-8b34-5c5e7a81cc91",
   "metadata": {},
   "outputs": [],
   "source": [
    "count = 0\n",
    "for num in get_odds"
   ]
  }
 ],
 "metadata": {
  "kernelspec": {
   "display_name": "Python 3 (ipykernel)",
   "language": "python",
   "name": "python3"
  },
  "language_info": {
   "codemirror_mode": {
    "name": "ipython",
    "version": 3
   },
   "file_extension": ".py",
   "mimetype": "text/x-python",
   "name": "python",
   "nbconvert_exporter": "python",
   "pygments_lexer": "ipython3",
   "version": "3.12.7"
  }
 },
 "nbformat": 4,
 "nbformat_minor": 5
}
